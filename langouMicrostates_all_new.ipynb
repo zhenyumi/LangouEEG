{
 "cells": [
  {
   "cell_type": "markdown",
   "metadata": {},
   "source": [
    "# General setup"
   ]
  },
  {
   "cell_type": "code",
   "execution_count": 1,
   "metadata": {},
   "outputs": [
    {
     "name": "stdout",
     "output_type": "stream",
     "text": [
      "0 files missing from root.txt in /work/zhangyq/mne_data/MNE-fsaverage-data\n",
      "0 files missing from bem.txt in /work/zhangyq/mne_data/MNE-fsaverage-data/fsaverage\n"
     ]
    }
   ],
   "source": [
    "# General setup\n",
    "import numpy as np\n",
    "import os\n",
    "import os.path as op\n",
    "import matplotlib.pyplot as plt\n",
    "from langouEEG import *\n",
    "from scipy.stats import *\n",
    "from eeg_microstates3 import *\n",
    "import pandas as pd\n",
    "import time\n",
    "import mne\n",
    "import pickle\n",
    "from mne.datasets import sample\n",
    "from mne.datasets import fetch_fsaverage\n",
    "from mpl_toolkits.mplot3d import Axes3D  # noqa\n",
    "from langouMicrostates import *\n",
    "from IPython.display import clear_output as clear\n",
    "import logging\n",
    "# import easyEEG\n",
    "\n",
    "sample_data_folder = mne.datasets.sample.data_path()\n",
    "# dataRoot = \"/data/home/viscent/Light\"\n",
    "dataRoot = \"/work/zhangyq/Light/\"\n",
    "\n",
    "\n",
    "# Download fsaverage files\n",
    "fs_dir = fetch_fsaverage(verbose=True)\n",
    "isMale = False\n",
    "isAll = True\n",
    "isBlind = False\n",
    "if not isAll:\n",
    "    result_dir = op.join(dataRoot,'result','male' if isMale else 'female')\n",
    "else:\n",
    "    result_dir = op.join(dataRoot,'result','all')\n",
    "subjects_dir = op.dirname(fs_dir)\n",
    "if not op.exists(result_dir):\n",
    "    os.mkdir(result_dir)\n",
    "# The files live in:\n"
   ]
  },
  {
   "cell_type": "markdown",
   "metadata": {},
   "source": [
    "# Read the data"
   ]
  },
  {
   "cell_type": "code",
   "execution_count": 2,
   "metadata": {},
   "outputs": [],
   "source": [
    "%%capture\n",
    "## Input EEG data and extarct epochs\n",
    "\n",
    "epochs_4F = dict()\n",
    "epochs_RF = dict()\n",
    "epochs_4R = dict()\n",
    "epochs_RR = dict()\n",
    "#epochs_all = dict()\n",
    "\n",
    "\n",
    "# tmin_rest, tmax_rest, tmin_flick,tmax_flick = 40, 60, 15, 30\n",
    "# tmin_rest, tmax_rest, tmin_flick,tmax_flick = 40, 50, 15, 22\n",
    "tmin_rest, tmax_rest, tmin_flick,tmax_flick = 5, 25, 5, 25\n",
    "# tmin_R_flick, tmax_R_flick = 20, 25\n",
    "# tmin_R_flick, tmax_R_flick = 20, 22\n",
    "tmin_R_flick, tmax_R_flick = 5, 25\n",
    "\n",
    "# Total 1-21\n",
    "# 1-11 and 12-21\n",
    "epoch_num = 0\n",
    "for subject_name in range(1,21):\n",
    "    if not isAll:\n",
    "        if not (isMale ^ (subject_name in [7,8,11,17])):\n",
    "            continue\n",
    "    if subject_name<10:\n",
    "        subject_name='S0'+str(subject_name)\n",
    "    else:\n",
    "        subject_name='S'+str(subject_name)\n",
    "    with open(dataRoot+'/clean_data_av/'+subject_name+'_clean.lgeeg','rb') as f:\n",
    "        raw=pickle.load(f)\n",
    "    events, event_dict=extractEvents(raw)\n",
    "    picks = mne.pick_types(raw.info, meg=False, eeg=True, stim=False, eog=False,\n",
    "                        exclude='bads')\n",
    "\n",
    "    epoch_RR,epoch_RF,epoch_4R,epoch_4F = extractEpochs_forall(raw,events,picks, \n",
    "    tmin_rest = tmin_rest,tmax_rest = tmax_rest,tmin_flick = tmin_flick,tmax_flick = tmax_flick)\n",
    "    # 为啥搞两遍？\n",
    "    ## A: 因为之前random与40Hz取的时间段不同，我写的垃圾代码只能传进一个tmin_flick\n",
    "    ### Q: 我看也没区别啊\n",
    "    #### A: 因为现在tmin,tmax是一样的，以前是不一样的\n",
    "    _,epoch_RF,_,_ = extractEpochs_forall(raw,events,picks, \n",
    "    tmin_rest = tmin_rest,tmax_rest = tmax_rest,tmin_flick = tmin_R_flick,tmax_flick = tmax_R_flick)\n",
    "    epochs_4F[subject_name]=epoch_4F\n",
    "    epochs_RF[subject_name]=epoch_RF\n",
    "    epochs_RR[subject_name]=epoch_RR\n",
    "    epochs_4R[subject_name]=epoch_4R\n",
    "    #epochs_all[epoch_num] = epoch_4R\n",
    "    #epochs_all[epoch_num+1] = epoch_4F\n",
    "    #epochs_all[epoch_num+2] = epoch_RF\n",
    " \n",
    "    data_path = sample.data_path()\n",
    "\n",
    "    picks = mne.pick_types(raw.info, meg=False, eeg=True, stim=False, eog=False,\n",
    "                        exclude='bads')\n",
    "\n",
    "    epoch_num += 3\n",
    "    # Clear output display\n",
    "    clear()\n",
    "\n",
    "## Concact epochs\n",
    "epoch_4F = mne.concatenate_epochs(list(epochs_4F.values()))\n",
    "epoch_RF = mne.concatenate_epochs(list(epochs_RF.values()))\n",
    "epoch_4R = mne.concatenate_epochs(list(epochs_4R.values()))\n",
    "# epoch_all = mne.concatenate_epochs(list(epochs_all.values()))\n",
    "# mne.epochs.equalize_epoch_counts([epoch_4F, epoch_RF, epoch_RR])\n",
    "\n",
    "# Clear output display\n",
    "clear()"
   ]
  },
  {
   "cell_type": "markdown",
   "metadata": {},
   "source": [
    "# Concatenate all epochs in all conditions"
   ]
  },
  {
   "cell_type": "code",
   "execution_count": null,
   "metadata": {},
   "outputs": [],
   "source": [
    "epoch_all = mne.concatenate_epochs([epoch_4F, epoch_RF, epoch_4R])\n",
    "epoch_dur = np.zeros((3))\n",
    "epoch_dur = [epoch_4F.get_data().shape[0]*epoch_4F.get_data().shape[2],epoch_RF.get_data().shape[0]*epoch_RF.get_data().shape[2],epoch_4R.get_data().shape[0]*epoch_4R.get_data().shape[2]]\n",
    "epoch_count = [epoch_4F.get_data().shape[0],epoch_RF.get_data().shape[0],epoch_4R.get_data().shape[0]]\n",
    "epoch_size = epoch_all.get_data().shape[2]"
   ]
  },
  {
   "cell_type": "markdown",
   "metadata": {},
   "source": [
    "# Do MS analysis"
   ]
  },
  {
   "cell_type": "code",
   "execution_count": null,
   "metadata": {},
   "outputs": [],
   "source": [
    "# epochs_order = list(epochs_4R.values())\n",
    "# for i in list(epochs_4F.values()):\n",
    "#     epochs_order.append(i)\n",
    "# for i in list(epochs_RF.values()):\n",
    "#     epochs_order.append(i)\n",
    "# epoch_order = mne.concatenate_epochs(epochs_order)\n",
    "epoch_order = epoch_all\n",
    "\n",
    "dataRoot = \"/work/zhangyq/Light/\"\n",
    "\n",
    "result_dir = dataRoot + \"result/microstates\"\n",
    "tm = time.strftime(\"%Y_%m_%d_%H_%M_%S\", time.localtime())\n",
    "time_augs=[['min_rest','max_rest','min_flick','max_flick','min_random_flick','max_random_flick']\n",
    ",[tmin_rest, tmax_rest, tmin_flick, tmax_flick, tmin_R_flick, tmax_R_flick]]\n",
    "\n",
    "# Args to save MS result\n",
    "save = True\n",
    "to_save_cache = True\n",
    "save_log = True\n",
    "\n",
    "from langouEEG import *\n",
    "# mode: \"aahc\", \"kmeans\", \"kmedoids\", \"pca\", \"ica\"\n",
    "vars_all = display_maps(epoch_order, n_maps=8, save=save, dpi=600, filename='all',\n",
    "fmt='.png', to_save_cache=to_save_cache, time_augs=time_augs, tm=tm, result_dir=result_dir,\n",
    "calc_lzc=False, epochs=epoch_order,save_log=save_log, f_lo=8, f_hi=13, mode=1)"
   ]
  },
  {
   "cell_type": "markdown",
   "metadata": {},
   "source": [
    "# Wash the data, seperate the data according to different conditions"
   ]
  },
  {
   "cell_type": "code",
   "execution_count": null,
   "metadata": {},
   "outputs": [],
   "source": [
    "maps = vars_all[0]"
   ]
  },
  {
   "cell_type": "code",
   "execution_count": null,
   "metadata": {},
   "outputs": [],
   "source": [
    "ABCD_ = input(\"Please input the ABCD sequence, e.g.: 0,1,2,3\").split(',')\n",
    "ABCD = [int(ABCD_[i]) for i in range(len(ABCD_))]\n",
    "# ABCD = [3,1,2,6]\n",
    "state_A = maps[ABCD[0]]\n",
    "state_B = maps[ABCD[1]]\n",
    "state_C = maps[ABCD[2]]\n",
    "state_D = maps[ABCD[3]]"
   ]
  },
  {
   "cell_type": "code",
   "execution_count": null,
   "metadata": {},
   "outputs": [],
   "source": [
    "np.save(result_dir+'/state_A.npy',state_A)\n",
    "np.save(result_dir+'/state_B.npy',state_B)\n",
    "np.save(result_dir+'/state_C.npy',state_C)\n",
    "np.save(result_dir+'/state_D.npy',state_D)"
   ]
  },
  {
   "cell_type": "code",
   "execution_count": null,
   "metadata": {},
   "outputs": [],
   "source": [
    "import math\n",
    "def GMD(u,v):\n",
    "    u_bar = np.mean(u,axis=0)\n",
    "    v_bar = np.mean(v,axis=0)\n",
    "    n = u.shape[0]\n",
    "    sigma_diff = 0\n",
    "    for i in range(n):\n",
    "        a = 0\n",
    "        b = 0\n",
    "        for j in range(n):\n",
    "            a += ((u[j]-u_bar)**2)/n\n",
    "            b += ((v[j]-v_bar)**2)/n\n",
    "        a = math.sqrt(a)\n",
    "        b = math.sqrt(b)\n",
    "        a = (u[i]-u_bar)/a\n",
    "        b = (v[i]-v_bar)/b\n",
    "        sigma_diff += (a-b)**2\n",
    "    return math.sqrt(sigma_diff/n)\n",
    "GMD_mat = np.zeros((8,8))\n",
    "for i in range(8):\n",
    "    for j in range(8):\n",
    "        GMD_mat[i,j] = GMD(maps[i],maps[j])\n",
    "def pGMD(u,v):\n",
    "    return GMD_mat[u,v]"
   ]
  },
  {
   "cell_type": "code",
   "execution_count": null,
   "metadata": {},
   "outputs": [],
   "source": [
    "maps = vars_all[0]\n",
    "temp = np.zeros((maps.shape[0]))\n",
    "state_A = np.load(result_dir+'/state_A.npy')\n",
    "for i in range(maps.shape[0]):\n",
    "    temp[i] = abs(GMD(maps[i],state_A)-1)\n",
    "idx_A = temp.argmax()\n",
    "\n",
    "temp = np.zeros((maps.shape[0]))\n",
    "state_B = np.load(result_dir+'/state_B.npy')\n",
    "for i in range(maps.shape[0]):\n",
    "    temp[i] = abs(GMD(maps[i],state_B)-1)\n",
    "idx_B = temp.argmax()\n",
    "\n",
    "temp = np.zeros((maps.shape[0]))\n",
    "state_C = np.load(result_dir+'/state_C.npy')\n",
    "for i in range(maps.shape[0]):\n",
    "    temp[i] = abs(GMD(maps[i],state_C)-1)\n",
    "idx_C = temp.argmax()\n",
    "\n",
    "temp = np.zeros((maps.shape[0]))\n",
    "state_D = np.load(result_dir+'/state_D.npy')\n",
    "for i in range(maps.shape[0]):\n",
    "    temp[i] = abs(GMD(maps[i],state_D)-1)\n",
    "idx_D = temp.argmax()\n",
    "map_idx = np.array([idx_A,idx_B,idx_C,idx_D])\n",
    "map_canonical = np.array([state_A,state_B,state_C,state_D])\n"
   ]
  },
  {
   "cell_type": "code",
   "execution_count": null,
   "metadata": {},
   "outputs": [],
   "source": [
    "def reject_short(x):\n",
    "    u = 0\n",
    "    v = 1\n",
    "    x_prev = x[0]\n",
    "    rej_count = 0\n",
    "    rej_tot = 0\n",
    "    dur = []\n",
    "    while True:\n",
    "        while v<=x.shape[0]:\n",
    "            if v > x.shape[0]-1:\n",
    "                break\n",
    "            if x[v]!=x_prev:\n",
    "                if v-u < 15:\n",
    "                    for i in range(u,v):\n",
    "                        x[i] = 8\n",
    "                dur.append(v-u)\n",
    "                x_prev = x[v]\n",
    "                u = v\n",
    "                v += 1\n",
    "            else:\n",
    "                v += 1\n",
    "        u = 0\n",
    "        v = 1\n",
    "        rej_count=np.sum(np.where(x==8,1,0))\n",
    "        print(rej_count)\n",
    "        rej_tot+=rej_count\n",
    "        while v<=x.shape[0]:\n",
    "            if v > x.shape[0]-1:\n",
    "                break\n",
    "            if x[v] == 8:\n",
    "                u = v\n",
    "                while v < x.shape[0]:\n",
    "                    if x[v]!=8:\n",
    "                        break\n",
    "                    else:\n",
    "                        v+=1\n",
    "                mid = math.floor(u+(v-u)/2)\n",
    "                if mid>x.shape[0] or v > x.shape[0]-1:\n",
    "                    break\n",
    "                for i in range(u,mid):\n",
    "                    x[i] = x[u-1]\n",
    "                for i in range(mid,v):\n",
    "                    x[i] = x[v]\n",
    "                u=v-1\n",
    "            else:\n",
    "                v += 1\n",
    "        if rej_count < 3:\n",
    "            x[np.where(x==8)]=map_idx[0]\n",
    "            break\n",
    "    return x,rej_tot"
   ]
  },
  {
   "cell_type": "code",
   "execution_count": null,
   "metadata": {},
   "outputs": [],
   "source": [
    "# return maps, x, gfp_peaks, gev, data, pca1\n",
    "x = vars_all[1].copy()\n",
    "gfp = vars_all[2].copy()\n",
    "gfp_l = np.zeros(x.shape[0])\n",
    "gfp_l[gfp] = 1\n",
    "x_4F = vars_all[1][0:epoch_dur[0]]\n",
    "x_RF = vars_all[1][epoch_dur[0]:epoch_dur[0]+epoch_dur[1]]\n",
    "x_4R = vars_all[1][epoch_dur[0]+epoch_dur[1]:epoch_dur[0]+epoch_dur[1]+epoch_dur[2]]"
   ]
  },
  {
   "cell_type": "code",
   "execution_count": null,
   "metadata": {},
   "outputs": [],
   "source": [
    "\n",
    "def backfit(x):\n",
    "    if np.isin(x,map_idx):\n",
    "        for i in range(map_idx.shape[0]):\n",
    "            if x == map_idx[i]:\n",
    "                ret = i\n",
    "    else:\n",
    "        temp_GMD = np.zeros(map_idx.shape[0])\n",
    "        for i in range(map_canonical.shape[0]):\n",
    "            temp_GMD[i] = abs(pGMD(x,map_idx[i])-1)\n",
    "        ret = temp_GMD.argmax()\n",
    "    return ret\n",
    "vbackfit = np.vectorize(backfit)"
   ]
  },
  {
   "cell_type": "code",
   "execution_count": null,
   "metadata": {},
   "outputs": [],
   "source": [
    "\n",
    "x_clean_4F = np.zeros((x_4F.shape[0]),dtype=np.int16)\n",
    "gfp_4F = np.zeros(x_4F.shape[0],dtype=np.int16)\n",
    "x_clean_4F = vbackfit(x_4F)\n",
    "for j in range(x_4F.shape[0]):\n",
    "    gfp_4F[j] = gfp_l[j]\n",
    "        \n",
    "x_clean_RF = np.zeros(x_RF.shape[0],dtype=np.int16)\n",
    "gfp_RF = np.zeros(x_RF.shape[0],dtype=np.int16)\n",
    "x_clean_RF = vbackfit(x_RF)\n",
    "for j in range(x_RF.shape[0]):\n",
    "    gfp_RF[j] = gfp_l[j]\n",
    "\n",
    "\n",
    "x_clean_4R = np.zeros(x_4R.shape[0],dtype=np.int16)\n",
    "gfp_4R = np.zeros(x_4R.shape[0],dtype=np.int16)\n",
    "x_clean_4R = vbackfit(x_4R)\n",
    "for j in range(x_4R.shape[0]):\n",
    "    gfp_4R[j] = gfp_l[j]\n",
    "    "
   ]
  },
  {
   "cell_type": "code",
   "execution_count": null,
   "metadata": {},
   "outputs": [],
   "source": [
    "x_clean_4F,rej_tot = reject_short(x_clean_4F)\n",
    "reject_rate = rej_tot/x.shape[0]\n",
    "# print(rej_tot)\n",
    "print(str(reject_rate)+' data rejected for too short duration ( < 30ms)')\n",
    "x_clean_RF,rej_tot = reject_short(x_clean_RF)\n",
    "reject_rate = rej_tot/x.shape[0]\n",
    "# print(rej_tot)\n",
    "print(str(reject_rate)+' data rejected for too short duration ( < 30ms)')\n",
    "x_clean_4R,rej_tot = reject_short(x_clean_4R)\n",
    "reject_rate = rej_tot/x.shape[0]\n",
    "# print(rej_tot)\n",
    "print(str(reject_rate)+' data rejected for too short duration ( < 30ms)')"
   ]
  },
  {
   "cell_type": "markdown",
   "metadata": {},
   "source": [
    "# Quantitative analysis\n",
    "## Coverage"
   ]
  },
  {
   "cell_type": "code",
   "execution_count": null,
   "metadata": {},
   "outputs": [],
   "source": [
    "epoch_minimum = np.min(epoch_count)\n",
    "coverage = np.zeros((3,epoch_minimum,4))\n",
    "for i in range(epoch_minimum):\n",
    "    coverage[0,i] = np.bincount(x_clean_4F[i*epoch_size:(i+1)*epoch_size],minlength=4)/epoch_size\n",
    "    coverage[1,i] = np.bincount(x_clean_RF[i*epoch_size:(i+1)*epoch_size],minlength=4)/epoch_size\n",
    "    coverage[2,i] = np.bincount(x_clean_4R[i*epoch_size:(i+1)*epoch_size],minlength=4)/epoch_size\n",
    "print(coverage[0][0])\n",
    "print(coverage[1][0])\n",
    "print(coverage[2][0])"
   ]
  },
  {
   "cell_type": "markdown",
   "metadata": {},
   "source": [
    "### Save coverage"
   ]
  },
  {
   "cell_type": "code",
   "execution_count": null,
   "metadata": {},
   "outputs": [],
   "source": [
    "save_coverage_m=True\n",
    "\n",
    "import pandas as pd\n",
    "def save_var(save_folder, filename, data):\n",
    "    # data is a *nd array*\n",
    "    if not os.path.exists(save_folder):\n",
    "        os.makedirs(save_folder)\n",
    "    writer = pd.ExcelWriter(save_folder + '/{0}'.format(filename))\n",
    "    for i in range(data.shape[0]):\n",
    "        data_write = pd.DataFrame(data[i])\n",
    "        data_write.to_excel(writer, '{0}'.format(i), float_format='%.5f')\n",
    "    writer.save()\n",
    "    return\n",
    "\n",
    "dataRoot = \"/work/zhangyq/Light/\"\n",
    "result_dir = dataRoot + \"result/microstates\"\n",
    "save_folder = result_dir + '/cache/' + tm\n",
    "\n",
    "if save_coverage_m:\n",
    "    save_var(save_folder=save_folder, filename=\"coverage_m.xlsx\", data=coverage)"
   ]
  },
  {
   "cell_type": "markdown",
   "metadata": {},
   "source": [
    "### Statistical analysis"
   ]
  },
  {
   "cell_type": "code",
   "execution_count": null,
   "metadata": {},
   "outputs": [],
   "source": [
    "'''pval matrix\n",
    "4F-4R 0-7\n",
    "RF-4R 8-15\n",
    "4F-RF 16-23\n",
    "'''\n",
    "from statsmodels.stats.multitest import *\n",
    "from scipy.stats import ttest_ind\n",
    "pval = np.zeros(12)\n",
    "for j in range(4):\n",
    "    pval[j] = ttest_ind(coverage[0,:,j],coverage[2,:,j])[1]\n",
    "    pval[4+j] = ttest_ind(coverage[1,:,j],coverage[2,:,j])[1]\n",
    "    pval[8+j] = ttest_ind(coverage[0,:,j],coverage[1,:,j])[1]\n",
    "fdr_val = fdrcorrection(pval,alpha=0.05,method='indep',is_sorted=False)\n",
    "fdr_4F_4R = [fdr_val[0][0:4],fdr_val[1][0:4]]\n",
    "fdr_RF_4R = [fdr_val[0][4:8],fdr_val[1][4:8]]\n",
    "fdr_4F_RF = [fdr_val[0][8:12],fdr_val[1][8:12]]\n",
    "\n",
    "fdr_val\n"
   ]
  },
  {
   "cell_type": "markdown",
   "metadata": {},
   "source": [
    "## Frequency of occurance"
   ]
  },
  {
   "cell_type": "code",
   "execution_count": null,
   "metadata": {},
   "outputs": [],
   "source": [
    "def consecutive_count(x):\n",
    "    u=0\n",
    "    v=1\n",
    "    prev = x[u]\n",
    "    count = np.zeros(4)\n",
    "    while v < x.shape[0]:\n",
    "        if x[v]!=prev:\n",
    "            count[prev]+=1\n",
    "            prev = x[v]\n",
    "            u=v\n",
    "        v+=1\n",
    "    count[prev] +=1 \n",
    "    return count"
   ]
  },
  {
   "cell_type": "code",
   "execution_count": null,
   "metadata": {},
   "outputs": [],
   "source": [
    "freq_occur_4F = np.zeros((epoch_minimum,4))\n",
    "for i in range(epoch_minimum):\n",
    "    freq_occur_4F[i]=consecutive_count(x_clean_4F[i*epoch_size:(i+1)*epoch_size])/epoch_size*500\n",
    "\n",
    "freq_occur_RF = np.zeros((epoch_minimum,4))\n",
    "for i in range(epoch_minimum):\n",
    "    freq_occur_RF[i]=consecutive_count(x_clean_RF[i*epoch_size:(i+1)*epoch_size])/epoch_size*500\n",
    "\n",
    "freq_occur_4R = np.zeros((epoch_minimum,4))\n",
    "for i in range(epoch_minimum):\n",
    "    freq_occur_4R[i]=consecutive_count(x_clean_4R[i*epoch_size:(i+1)*epoch_size])/epoch_size*500\n",
    "\n",
    "print(freq_occur_4R[0])\n",
    "print(freq_occur_4F[0])\n",
    "print(freq_occur_RF[0])"
   ]
  },
  {
   "cell_type": "code",
   "execution_count": null,
   "metadata": {},
   "outputs": [],
   "source": [
    "freq_occur = np.array([freq_occur_4F,freq_occur_RF,freq_occur_4R])"
   ]
  },
  {
   "cell_type": "markdown",
   "metadata": {},
   "source": [
    "### Save frequency of occurance"
   ]
  },
  {
   "cell_type": "code",
   "execution_count": null,
   "metadata": {},
   "outputs": [],
   "source": [
    "save_occur_m=True\n",
    "\n",
    "dataRoot = \"/work/zhangyq/Light/\"\n",
    "result_dir = dataRoot + \"result/microstates\"\n",
    "save_folder = result_dir + '/cache/' + tm\n",
    "\n",
    "if save_occur_m:\n",
    "    save_var(save_folder=save_folder, filename=\"occurance_m.xlsx\", data=freq_occur)"
   ]
  },
  {
   "cell_type": "markdown",
   "metadata": {},
   "source": [
    "### Statistical analysis"
   ]
  },
  {
   "cell_type": "code",
   "execution_count": null,
   "metadata": {},
   "outputs": [],
   "source": [
    "##TODO: 做freq of occurrence的FDR，方法参考上下文\n",
    "'''pval matrix\n",
    "4F-4R\n",
    "RF-4R\n",
    "4F-RF\n",
    "'''\n",
    "from statsmodels.stats.multitest import *\n",
    "from scipy.stats import ttest_ind\n",
    "pval = np.zeros(12)\n",
    "for j in range(4):\n",
    "    pval[j] = ttest_ind(freq_occur_4F[:,j],freq_occur_4R[:,j])[1]\n",
    "    pval[4+j] = ttest_ind(freq_occur_RF[:,j],freq_occur_4R[:,j])[1]\n",
    "    pval[8+j] = ttest_ind(freq_occur_4F[:,j],freq_occur_RF[:,j])[1]\n",
    "fdr_val_freq = fdrcorrection(pval,alpha=0.05,method='indep',is_sorted=False)\n",
    "fdr_4F_4R_freq = [fdr_val_freq[0][0:4],fdr_val_freq[1][0:4]]\n",
    "fdr_RF_4R_freq = [fdr_val_freq[0][4:8],fdr_val_freq[1][4:8]]\n",
    "fdr_4F_RF_freq = [fdr_val_freq[0][8:12],fdr_val_freq[1][8:12]]"
   ]
  },
  {
   "cell_type": "code",
   "execution_count": null,
   "metadata": {},
   "outputs": [],
   "source": [
    "fdr_val_freq"
   ]
  },
  {
   "cell_type": "markdown",
   "metadata": {},
   "source": [
    "## Duration"
   ]
  },
  {
   "cell_type": "code",
   "execution_count": null,
   "metadata": {},
   "outputs": [],
   "source": [
    "dur_4F = np.zeros((epoch_minimum,4))\n",
    "for i in range(epoch_minimum):\n",
    "    u = v = 0\n",
    "    prev_state = x_clean_4F[0]\n",
    "    temp = [[],[],[],[]]\n",
    "    for j in x_clean_4F[i*epoch_size:(i+1)*epoch_size]:\n",
    "        if j != prev_state:\n",
    "            temp[prev_state].append(v-u)\n",
    "            u = v\n",
    "            prev_state = j\n",
    "        v += 1\n",
    "    for j in range(4):\n",
    "        dur_4F[i,j] = np.array(temp[j]).mean()\n",
    "\n",
    "dur_RF = np.zeros((epoch_minimum,4))\n",
    "for i in range(epoch_minimum):\n",
    "    u = v = 0\n",
    "    prev_state = x_clean_RF[0]\n",
    "    temp = [[],[],[],[]]\n",
    "    for j in x_clean_RF[i*epoch_size:(i+1)*epoch_size]:\n",
    "        if j != prev_state:\n",
    "            temp[prev_state].append(v-u)\n",
    "            u = v\n",
    "            prev_state = j\n",
    "        v += 1\n",
    "    for j in range(4):\n",
    "        dur_RF[i,j] = np.array(temp[j]).mean()\n",
    "\n",
    "dur_4R = np.zeros((epoch_minimum,4))\n",
    "for i in range(epoch_minimum):\n",
    "    u = v = 0\n",
    "    prev_state = x_clean_4R[0]\n",
    "    temp = [[],[],[],[]]\n",
    "    for j in x_clean_4R[i*epoch_size:(i+1)*epoch_size]:\n",
    "        if j != prev_state:\n",
    "            temp[prev_state].append(v-u)\n",
    "            u = v\n",
    "            prev_state = j\n",
    "        v += 1\n",
    "    for j in range(4):\n",
    "        dur_4R[i,j] = np.array(temp[j]).mean()"
   ]
  },
  {
   "cell_type": "code",
   "execution_count": null,
   "metadata": {},
   "outputs": [],
   "source": [
    "duration = np.array([dur_4F,dur_RF,dur_4R])\n",
    "duration = duration*2\n",
    "print(duration[0][0])\n",
    "print(duration[1][0])\n",
    "print(duration[2][0])"
   ]
  },
  {
   "cell_type": "markdown",
   "metadata": {},
   "source": [
    "### Save duration"
   ]
  },
  {
   "cell_type": "code",
   "execution_count": null,
   "metadata": {},
   "outputs": [],
   "source": [
    "save_dur_m = True\n",
    "\n",
    "dataRoot = \"/work/zhangyq/Light/\"\n",
    "result_dir = dataRoot + \"result/microstates\"\n",
    "save_folder = result_dir + '/cache/' + tm\n",
    "\n",
    "if save_dur_m:\n",
    "    save_var(save_folder=save_folder, filename=\"duration_m.xlsx\", data=duration)"
   ]
  },
  {
   "cell_type": "markdown",
   "metadata": {},
   "source": [
    "### Statistical analysis"
   ]
  },
  {
   "cell_type": "code",
   "execution_count": null,
   "metadata": {},
   "outputs": [],
   "source": [
    "'''pval matrix\n",
    "4F-4R\n",
    "RF-4R\n",
    "4F-RF\n",
    "'''\n",
    "from statsmodels.stats.multitest import *\n",
    "from scipy.stats import ttest_ind\n",
    "pval = np.zeros(12)\n",
    "for j in range(4):\n",
    "    pval[j] = ttest_ind(dur_4F[j],dur_4R[j])[1]\n",
    "    pval[4+j] = ttest_ind(dur_RF[j],dur_4R[j])[1]\n",
    "    pval[8+j] = ttest_ind(dur_4F[j],dur_RF[j])[1]\n",
    "fdr_val_dur = fdrcorrection(pval,alpha=0.05,method='indep',is_sorted=False)\n",
    "fdr_4F_4R_dur = [fdr_val_dur[0][0:4],fdr_val_dur[1][0:4]]\n",
    "fdr_RF_4R_dur = [fdr_val_dur[0][4:8],fdr_val_dur[1][4:8]]\n",
    "fdr_4F_RF_dur = [fdr_val_dur[0][8:12],fdr_val_dur[1][8:12]]"
   ]
  },
  {
   "cell_type": "code",
   "execution_count": null,
   "metadata": {},
   "outputs": [],
   "source": [
    "fdr_val_dur"
   ]
  },
  {
   "cell_type": "markdown",
   "metadata": {},
   "source": [
    "# 常规Microstates分析到此为止，后面代码弃用\n",
    "## TODO: 分析transition matrix、分析LZC"
   ]
  },
  {
   "cell_type": "code",
   "execution_count": null,
   "metadata": {},
   "outputs": [],
   "source": [
    "# 0: rest, 1: 40Hz, 2: random\n",
    "# duration_list = np.asarray([dur_4R, dur_4F, dur_RF])\n",
    "# len(dur_4R[6])\n",
    "# save_var(save_folder=save_folder, filename=\"duration_m.xlsx\", data=duration_list)\n",
    "\n"
   ]
  },
  {
   "cell_type": "markdown",
   "metadata": {},
   "source": [
    "# MS class selection\n",
    "## According to the highest *n* occurance "
   ]
  },
  {
   "cell_type": "code",
   "execution_count": null,
   "metadata": {},
   "outputs": [],
   "source": [
    "# def pick_MS(x, accept_list=[]):\n",
    "#     state_prev = -1\n",
    "#     # 避免前几个不再accept_list之内\n",
    "#     for i in x:\n",
    "#         if i in accept_list:\n",
    "#             state_prev = i\n",
    "#             break\n",
    "#     # 从头遍历，将x中不在accept_list当中的state替换为前面的一个state\n",
    "#     for index, i in enumerate(x):\n",
    "#         if i not in accept_list:\n",
    "#             x[index] = state_prev\n",
    "#         else:\n",
    "#             state_prev = x[index]\n",
    "#     return x\n"
   ]
  },
  {
   "cell_type": "markdown",
   "metadata": {},
   "source": [
    "# Quantitative analysis continue\n",
    "## Transition matrix"
   ]
  },
  {
   "cell_type": "code",
   "execution_count": null,
   "metadata": {},
   "outputs": [],
   "source": [
    "\n",
    "# vars return: maps, x, gfp_peaks, gev, data, pca1\n",
    "def analyze_RTT(x, n_maps):\n",
    "    p_hat = p_empirical(x, n_maps)\n",
    "    T_hat = T_empirical(x, n_maps)\n",
    "    print(\"\\nEmpirical symbol distribution (RTT):\\n\")\n",
    "    for i in range(n_maps):\n",
    "        print(f\"p_{i:d} = {p_hat[i]:.3f}\")\n",
    "    print(\"\\nEmpirical transition matrix:\\n\")\n",
    "    print_matrix(T_hat)\n",
    "    return T_hat\n",
    "\n"
   ]
  },
  {
   "cell_type": "code",
   "execution_count": null,
   "metadata": {},
   "outputs": [],
   "source": [
    "\n",
    "t_mat_4R = analyze_RTT(x_clean_4R, n_maps=4)\n",
    "t_mat_4F = analyze_RTT(x_clean_4F, n_maps=4)\n",
    "t_mat_RF = analyze_RTT(x_clean_RF, n_maps=4)\n",
    "\n"
   ]
  },
  {
   "cell_type": "code",
   "execution_count": null,
   "metadata": {},
   "outputs": [],
   "source": [
    "print_matrix(t_mat_4F)"
   ]
  },
  {
   "cell_type": "markdown",
   "metadata": {},
   "source": [
    "# Calculate SDI and modify x"
   ]
  },
  {
   "cell_type": "code",
   "execution_count": null,
   "metadata": {},
   "outputs": [],
   "source": [
    "def save_log_matrix(result_dir, T_hat, tm, state, n_maps=4):\n",
    "    logger = logging.getLogger(state)\n",
    "    log_path= result_dir + '/result_k{0}.log'.format(n_maps)\n",
    "    file_handler = logging.FileHandler(log_path)\n",
    "    logger.addHandler(file_handler)\n",
    "    logger.setLevel(logging.INFO)\n",
    "    logging.basicConfig(level=logging.DEBUG,\n",
    "                filename=result_dir + '/result_k{0}.log'.format(n_maps),\n",
    "                filemode='a',\n",
    "                format='%(asctime)s - %(filename)s[line:%(lineno)d] - %(levelname)s: %(message)s'\n",
    "                # format = ''\n",
    "                )\n",
    "    logger.error('\\n\\n' + tm)\n",
    "    logger.error('\\nCondition: {0}'.format(state))\n",
    "    logger.error(\"\\nEmpirical transition matrix:\")\n",
    "    logger.error(np.array2string(T_hat, separator=', '))\n",
    "    print('saved to '+ result_dir + '/result_k{0}.log'.format(n_maps))\n",
    "    return\n",
    "\n",
    "\n",
    "\"\"\" def logger_config(log_path,logging_name):\n",
    "    '''\n",
    "    配置log\n",
    "    :param log_path: 输出log路径\n",
    "    :param logging_name: 记录中name，可随意\n",
    "    :return:\n",
    "    '''\n",
    "    '''\n",
    "    logger是日志对象，handler是流处理器，console是控制台输出（没有console也可以，将不会在控制台输出，会在日志文件中输出）\n",
    "    '''\n",
    "    # 获取logger对象,取名\n",
    "    logger = logging.getLogger(logging_name)\n",
    "    # 输出DEBUG及以上级别的信息，针对所有输出的第一层过滤\n",
    "    logger.setLevel(level=logging.DEBUG)\n",
    "    # 获取文件日志句柄并设置日志级别，第二层过滤\n",
    "    handler = logging.FileHandler(log_path, encoding='UTF-8')\n",
    "    handler.setLevel(logging.INFO)\n",
    "    # 生成并设置文件日志格式\n",
    "    formatter = logging.Formatter('%(asctime)s - %(name)s - %(levelname)s - %(message)s')\n",
    "    handler.setFormatter(formatter)\n",
    "    # console相当于控制台输出，handler文件输出。获取流句柄并设置日志级别，第二层过滤\n",
    "    console = logging.StreamHandler()\n",
    "    console.setLevel(logging.DEBUG)\n",
    "    # 为logger对象添加句柄\n",
    "    logger.addHandler(handler)\n",
    "    logger.addHandler(console)\n",
    "    return logger \"\"\"\n",
    "\"\"\" \n",
    "def save_log_mat():\n",
    "    \n",
    "    return \"\"\"\n",
    "\n",
    "result_dir = dataRoot + \"result/microstates\" + '/logs_info'\n",
    "\n"
   ]
  },
  {
   "cell_type": "markdown",
   "metadata": {},
   "source": [
    "def save_log_matrix(logger, T_hat, tm, state):\n",
    "    \n",
    "    logger.info('\\n\\n' + tm)\n",
    "    logger.info('\\nCondition: {0}'.format(state))\n",
    "    logger.info(\"\\nEmpirical transition matrix:\")\n",
    "    logger.info(np.array2string(T_hat, separator=', '))\n",
    "    print('saved to '+ filename_)\n",
    "    return\n",
    "\n",
    "logger = logging.getLogger(__name__)\n",
    "filename_ = result_dir + '/result_k{0}.log'.format(4)\n",
    "\n",
    "logging.basicConfig(level=logging.INFO,\n",
    "            filename=filename_,\n",
    "            filemode='a',\n",
    "            # format='%(asctime)s - %(filename)s[line:%(lineno)d] - %(levelname)s: %(message)s'\n",
    "            format = ''\n",
    "            )\n",
    "\n",
    "\n",
    "\"\"\"     file_handler = logging.FileHandler(filename_)\n",
    "    logger.addHandler(file_handler)\n",
    "    logger.setLevel(logging.INFO) \"\"\""
   ]
  },
  {
   "cell_type": "code",
   "execution_count": null,
   "metadata": {},
   "outputs": [],
   "source": [
    "save_log_matrix(result_dir=result_dir, T_hat=t_mat_4R,tm=tm, state=\"Rest state\", n_maps=4)\n",
    "save_log_matrix(result_dir=result_dir, T_hat=t_mat_4F,tm=tm, state=\"40 Hz light\", n_maps=4)\n",
    "save_log_matrix(result_dir=result_dir, T_hat=t_mat_RF,tm=tm, state=\"Random flicker\", n_maps=4)\n"
   ]
  },
  {
   "cell_type": "code",
   "execution_count": null,
   "metadata": {},
   "outputs": [],
   "source": [
    "x_clean_4R.tolist().count(3)"
   ]
  },
  {
   "cell_type": "code",
   "execution_count": null,
   "metadata": {},
   "outputs": [],
   "source": [
    "# def normalise(data):    \n",
    "    \n",
    "#     # This metric doesn't care how the data are arranged, so we reshape to a\n",
    "#     # vector\n",
    "#     # print('Reshaping data...')\n",
    "    \n",
    "#     data_norm = data.reshape(1, np.size(data), order='F').copy()\n",
    "#     # print('...done')\n",
    "    \n",
    "#     # Subtract the mean from each element\n",
    "#     # print('Normalising...')\n",
    "#     data_norm = data_norm - np.mean(data_norm)\n",
    "    \n",
    "#     # Divide by the root mean square deviation from the mean across elements\n",
    "#     if (np.mean(data_norm**2) != 0):\n",
    "#         data_norm\t= data_norm / np.math.sqrt(np.mean(data_norm**2))\n",
    "#     # print('...done')\n",
    "    \n",
    "#     return data_norm\n",
    "\n",
    "\n",
    "# # This function calculates an index of dissimilarity between data1 and data2.\n",
    "# def SourceDissimilarityIndex(data1, data2):\n",
    "    \n",
    "#     # Convert data to numpy array\n",
    "#     data1 = np.array(data1)\n",
    "#     data2 = np.array(data2)\n",
    "    \n",
    "#     # Check input variables to ensure dimensions match\n",
    "#     if not (np.shape(data1) == np.shape(data2)):\n",
    "#         raise ValueError('data1 and data2 must have the same dimensions')\n",
    "    \n",
    "#     # Calculate the deviation of each element in each dataset from the mean,\n",
    "#     # relative to the average deviation across the dataset\n",
    "#     # print('DATA 1:')\n",
    "#     data1_norm\t= normalise(data1)\n",
    "#     # print('DATA 2:')\n",
    "#     data2_norm\t= normalise(data2)\n",
    "    \n",
    "#     # Take the root mean square (rms) difference between the two conditions\n",
    "#     # print('Calculating dissimilarity index...')    \n",
    "#     SDI = np.math.sqrt(np.mean((data1_norm - data2_norm)**2))\n",
    "#     # print('...done')\n",
    "    \n",
    "#     # Print the value\n",
    "#     # print('----------------------------------')\n",
    "#     # print('Source Dissimilarity Index = ' + str(\"{0:.3f}\".format(SDI)))\n",
    "        \n",
    "#     return SDI\n",
    "\n",
    "\n",
    "# maps = vars_all[0]\n",
    "# ABCD_ = input(\"Please input the ABCD sequence, e.g.: 0,1,2,3\").split(',')\n",
    "# ABCD = [int(ABCD_[i]) for i in range(len(ABCD_))]\n",
    "# print('Class A: state {0}\\nClass B: state {1}\\nClass C: state {2}\\nClass D: state {3}'.format(ABCD[0], ABCD[1], ABCD[2], ABCD[3]))"
   ]
  },
  {
   "cell_type": "code",
   "execution_count": null,
   "metadata": {},
   "outputs": [],
   "source": [
    "# def indentify_by_SDI(map_to_identify, maps, ABCD):\n",
    "#     # 判断当前map与另一个map的SDI\n",
    "#     SDI = []\n",
    "#     for i in ABCD:\n",
    "#         SDI.append(SourceDissimilarityIndex(map_to_identify, maps[i]))\n",
    "#     return ABCD[SDI.index(min(SDI))]\n",
    "\n",
    "# def clustering_by_SDI(ABCD, maps):\n",
    "#     # 根据SDI大小判断当前map属于哪一个特定的class\n",
    "#     # SDI越小说明越similar\n",
    "#     # 输出为一个dict (cluster_result)\n",
    "#     n_maps = maps.shape[0]\n",
    "#     cluster_result = {}\n",
    "#     not_ABCD = [x for x in list(range(n_maps)) if x not in ABCD]\n",
    "#     for i in not_ABCD:\n",
    "#         result = indentify_by_SDI(maps[i], maps, ABCD)\n",
    "#         cluster_result[i] = result\n",
    "#         print('State {0} -> State {1}'.format(i, result))\n",
    "#     return cluster_result\n",
    "\n",
    "# def format_cluster_result(cluster_result):\n",
    "#     # 因为x的map编号是从1开始的，而正常索引都是从0开始的\n",
    "#     # 因此对cluster_result每个key的值+1\n",
    "#     for i in cluster_result.keys():\n",
    "#         cluster_result[i] += 1\n",
    "#     return cluster_result\n",
    "\n",
    "# def substitute_by_SDI(x, cluster_result):\n",
    "#     # 对x当中的不属于ABCD的项根据cluster_result进行替换\n",
    "#     for i in cluster_result.keys():\n",
    "#         x[x==i] = cluster_result[i]\n",
    "#     print(\"Substitution done\")\n",
    "#     return x\n",
    "\n",
    "# def replace_x_by_SDI(x, ABCD, maps):\n",
    "#     cluster_result = clustering_by_SDI(ABCD, maps)\n",
    "#     cluster_result_plus = format_cluster_result(cluster_result)\n",
    "#     x = substitute_by_SDI(x, cluster_result_plus)\n",
    "#     return x\n",
    "\n",
    "# x = vars_all[1]\n",
    "# cluster_result = clustering_by_SDI(ABCD, maps)\n",
    "# x_repl = substitute_by_SDI(x, format_cluster_result(cluster_result))"
   ]
  },
  {
   "cell_type": "code",
   "execution_count": null,
   "metadata": {},
   "outputs": [],
   "source": [
    "\n",
    "# gfp = vars_all[2]\n",
    "# gfp_l = np.zeros(x.shape[0])\n",
    "# gfp_l[gfp] = 1\n",
    "# def find_gfp_state():\n",
    "\n",
    "#     return "
   ]
  },
  {
   "cell_type": "code",
   "execution_count": null,
   "metadata": {},
   "outputs": [],
   "source": [
    "# gev = vars_all[3]\n",
    "# cluster_result = clustering_by_SDI(ABCD, maps)\n",
    "# def add_gevs(gev, ABCD, cluster_result):\n",
    "#     gev_new = {}\n",
    "#     not_ABCD = [x for x in list(range(gev.shape[0])) if x not in ABCD]\n",
    "#     for i in ABCD:\n",
    "#         gev_new[i] = gev[i]\n",
    "#     for i in not_ABCD:\n",
    "#         real_state = cluster_result[i]\n",
    "#         gev_to_add = gev[i]\n",
    "#         gev_new[real_state] += gev_to_add\n",
    "#     return gev_new\n",
    "\n",
    "# gev = add_gevs(gev, ABCD, cluster_result)\n",
    "# print(gev)"
   ]
  },
  {
   "cell_type": "code",
   "execution_count": null,
   "metadata": {},
   "outputs": [],
   "source": [
    "# # freq_occur_4F, freq_occur_4R, freq_occur_RF\n",
    "# ## print(freq_occur_4F.shape)\n",
    "\n",
    "# def add_occurance(freq_occur, ABCD, cluster_result):\n",
    "#     not_ABCD = [x for x in list(range(freq_occur.shape[0])) if x not in ABCD]\n",
    "#     # freq_occur = np.mean(freq_occur, axis=0)\n",
    "#     freq_occur_new = {}\n",
    "#     for i in ABCD:\n",
    "#         freq_occur_new[i] = freq_occur[i]\n",
    "#     for i in not_ABCD:\n",
    "#         real_state = cluster_result[i]\n",
    "#         occur_to_add = freq_occur[i]\n",
    "#         freq_occur_new[real_state] += occur_to_add\n",
    "#     return list(freq_occur_new.values())\n",
    "\n",
    "# def add_occurance_all(freq_occur, ABCD, cluster_result):\n",
    "#     freq_occur_new = np.zeros(shape=(freq_occur.shape[0], len(ABCD)))\n",
    "#     for index, i in enumerate(freq_occur):\n",
    "#         add_result = add_occurance(i, ABCD, cluster_result)\n",
    "#         freq_occur_new[index] = add_result\n",
    "#     return freq_occur_new\n",
    "\n",
    "\n",
    "# freq_occur_4R_m = add_occurance_all(freq_occur_4R, ABCD, cluster_result)\n",
    "# freq_occur_4F_m = add_occurance_all(freq_occur_4F, ABCD, cluster_result)\n",
    "# freq_occur_RF_m = add_occurance_all(freq_occur_RF, ABCD, cluster_result)\n",
    "\n",
    "# print(freq_occur_4R_m[0])\n",
    "# print(freq_occur_4F_m[0])\n",
    "# print(freq_occur_RF_m[0])"
   ]
  }
 ],
 "metadata": {
  "interpreter": {
   "hash": "0b3f68e13f3afd5af5315e7ca1ef99c2300d2140295f87eeceaeede8089a051f"
  },
  "kernelspec": {
   "display_name": "Python 3.9.5 64-bit ('mne': conda)",
   "name": "python3"
  },
  "language_info": {
   "codemirror_mode": {
    "name": "ipython",
    "version": 3
   },
   "file_extension": ".py",
   "mimetype": "text/x-python",
   "name": "python",
   "nbconvert_exporter": "python",
   "pygments_lexer": "ipython3",
   "version": "3.9.5"
  },
  "orig_nbformat": 4
 },
 "nbformat": 4,
 "nbformat_minor": 2
}
