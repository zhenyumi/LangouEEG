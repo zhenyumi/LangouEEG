{
 "cells": [
  {
   "cell_type": "code",
   "execution_count": 1,
   "source": [
    "## Generally setup\n",
    "import numpy as np\n",
    "import os\n",
    "import os.path as op\n",
    "import matplotlib.pyplot as plt\n",
    "from langouEEG import *\n",
    "from scipy.stats import *\n",
    "from eeg_microstates3 import *\n",
    "import pandas as pd\n",
    "import time\n",
    "import mne\n",
    "import pickle\n",
    "from mne.datasets import sample\n",
    "from mne.datasets import fetch_fsaverage\n",
    "from mpl_toolkits.mplot3d import Axes3D  # noqa\n",
    "# from langouMicrostates import *\n",
    "from IPython.display import clear_output as clear\n",
    "import logging\n",
    "# import easyEEG\n",
    "\n",
    "sample_data_folder = mne.datasets.sample.data_path()\n",
    "dataRoot = \"/data/home/viscent/Light\"\n",
    "# Download fsaverage files\n",
    "fs_dir = fetch_fsaverage(verbose=True)\n",
    "isMale = False\n",
    "isAll = True\n",
    "isBlind = False\n",
    "if not isAll:\n",
    "    result_dir = op.join(dataRoot,'result','male' if isMale else 'female')\n",
    "else:\n",
    "    result_dir = op.join(dataRoot,'result','all')\n",
    "if isBlind:\n",
    "    result_dir = op.join(result_dir,'Blind')\n",
    "subjects_dir = op.dirname(fs_dir)\n",
    "if not op.exists(result_dir):\n",
    "    os.mkdir(result_dir)\n",
    "# The files live in:\n",
    "subject = 'fsaverage'\n",
    "trans = 'fsaverage'  # MNE has a built-in fsaverage transformation\n",
    "src = op.join(fs_dir, 'bem', 'fsaverage-ico-5-src.fif')\n",
    "bem = op.join(fs_dir, 'bem', 'fsaverage-5120-5120-5120-bem-sol.fif')\n",
    "print(__doc__)"
   ],
   "outputs": [
    {
     "output_type": "stream",
     "name": "stdout",
     "text": [
      "0 files missing from root.txt in /data/home/viscent/freesurfer/subjects\n",
      "0 files missing from bem.txt in /data/home/viscent/freesurfer/subjects/fsaverage\n",
      "Automatically created module for IPython interactive environment\n"
     ]
    }
   ],
   "metadata": {}
  },
  {
   "cell_type": "code",
   "execution_count": 2,
   "source": [
    "## Input EEG data and extarct epochs\n",
    "\n",
    "epochs_4F = dict()\n",
    "epochs_RF = dict()\n",
    "epochs_4R = dict()\n",
    "epochs_RR = dict()\n",
    "\n",
    "tmin_rest, tmax_rest, tmin_flick,tmax_flick = 40, 60, 10, 30\n",
    "tmin_R_flick, tmax_R_flick = 20, 25\n",
    "\n",
    "for subject_name in range(1,21):\n",
    "    \n",
    "    if not isAll:\n",
    "        if not (isMale ^ (subject_name in [7,8,11,17])):\n",
    "            continue\n",
    "    if subject_name<10:\n",
    "        subject_name='S0'+str(subject_name)\n",
    "    else:\n",
    "        subject_name='S'+str(subject_name)\n",
    "    with open(dataRoot+'/clean_data_av/'+subject_name+'_clean.lgeeg','rb') as f:\n",
    "        raw=pickle.load(f)\n",
    "    events, event_dict=extractEvents(raw)\n",
    "    picks = mne.pick_types(raw.info, meg=False, eeg=True, stim=False, eog=False,\n",
    "                        exclude='bads')\n",
    "    if isBlind:\n",
    "        epoch_RR,epoch_RF,epoch_4R,epoch_4F = extractEpochsBlind(raw,events,picks, \n",
    "        tmin_rest = 60,tmax_rest = 87,tmin_flick = 3,tmax_flick = 30)\n",
    "    else:\n",
    "        epoch_RR,epoch_RF,epoch_4R,epoch_4F = extractEpochs_id(raw,events,picks, \n",
    "        tmin_rest = tmin_rest,tmax_rest = tmax_rest,tmin_flick = tmin_flick,tmax_flick = tmax_flick)\n",
    "        _,epoch_RF,_,_ = extractEpochs_id(raw,events,picks, \n",
    "        tmin_rest = tmin_rest,tmax_rest = tmax_rest,tmin_flick = tmin_R_flick,tmax_flick = tmax_R_flick)\n",
    "    epochs_4F[subject_name]=epoch_4F\n",
    "    epochs_RF[subject_name]=epoch_RF\n",
    "    epochs_RR[subject_name]=epoch_RR\n",
    "    epochs_4R[subject_name]=epoch_4R\n",
    "    if not op.exists(os.path.join(dataRoot,'fwd_solution.lgeeg')):\n",
    "        fwd = mne.make_forward_solution(raw.info, trans=trans, src=src,\n",
    "                                        bem=bem, eeg=True, mindist=5.0, n_jobs=1)\n",
    "        print(fwd)\n",
    "        mne.write_forward_solution(os.path.join(dataRoot,'fwd_solution.lgeeg'),fwd,overwrite=True)\n",
    "    else:\n",
    "        fwd = mne.read_forward_solution(os.path.join(dataRoot,'fwd_solution.lgeeg'))\n",
    "    data_path = sample.data_path()\n",
    "\n",
    "    picks = mne.pick_types(raw.info, meg=False, eeg=True, stim=False, eog=False,\n",
    "                        exclude='bads')\n",
    "    # Clear output display\n",
    "    clear()\n",
    "\n",
    "## Concact epochs\n",
    "epoch_4F = mne.concatenate_epochs(list(epochs_4F.values()))\n",
    "epoch_RF = mne.concatenate_epochs(list(epochs_RF.values()))\n",
    "epoch_4R = mne.concatenate_epochs(list(epochs_4R.values()))\n",
    "# mne.epochs.equalize_epoch_counts([epoch_4F, epoch_RF, epoch_RR])\n",
    "\n",
    "# Clear output display\n",
    "clear()"
   ],
   "outputs": [],
   "metadata": {}
  },
  {
   "cell_type": "code",
   "execution_count": 3,
   "source": [
    "result_dir = \"/data/home/viscent/Light/result/microstates\"\n",
    "tm = time.strftime(\"%Y_%m_%d_%H_%M_%S\", time.localtime())\n",
    "time_augs=[['min_rest','max_rest','min_flick','max_flick','min_random_flick','max_random_flick']\n",
    ",[tmin_rest, tmax_rest, tmin_flick, tmax_flick, tmin_R_flick, tmax_R_flick]]\n",
    "to_save_cache = False"
   ],
   "outputs": [],
   "metadata": {}
  },
  {
   "cell_type": "code",
   "execution_count": 7,
   "source": [
    "vars_4R = display_maps(epoch_4R, n_maps=4, save=True, dpi=600, filename='40Hz_rest',\n",
    "fmt='.png', to_save_cache=to_save_cache, time_augs=time_augs, tm=tm, result_dir=result_dir,\n",
    "calc_lzc=True, epochs=epochs_4R,save_log=True)\n",
    "\"\"\" save_logs(epoch_4R, tm=tm, n_maps=4, filename='40Hz_rest',result_dir=result_dir, save_time=True, save_p=True, save_t=False, save_state=True, save_GEV=True, save_RTT=True) \"\"\""
   ],
   "outputs": [],
   "metadata": {}
  },
  {
   "cell_type": "code",
   "execution_count": null,
   "source": [
    "vars_4F = display_maps(epoch_4F, n_maps=4, save=True, dpi=600, filename='40Hz_flicker', \n",
    "fmt='.png', to_save_cache=to_save_cache, time_augs=time_augs, tm=tm, result_dir=result_dir,\n",
    "calc_lzc=True, epochs=epochs_4F,save_log=True)\n",
    "\"\"\" save_logs(epoch_4F, tm=tm, n_maps=4, filename='40Hz_flicker',result_dir=result_dir, save_time=True, save_p=True, save_t=False, save_state=True, save_GEV=True, save_RTT=True) \"\"\""
   ],
   "outputs": [
    {
     "output_type": "stream",
     "name": "stdout",
     "text": [
      "Clustering algorithm: kmeans\n",
      "[+] Data format for clustering [GFP peaks, channels]: 39216 x 64\n",
      "\n",
      "[+] Clustering algorithm: mod. K-MEANS.\n",
      "\tK-means run 1/5 converged after 33 iterations.\n",
      "\tK-means run 2/5 converged after 21 iterations.\n",
      "\tK-means run 3/5 converged after 44 iterations.\n",
      "\tK-means run 4/5 converged after 57 iterations.\n",
      "\tK-means run 5/5 converged after 21 iterations.\n",
      "[+] Computation time: 8.07 sec\n",
      "\n",
      "[+] Microstate back-fitting:\n",
      "data_norm:  (1020102, 64)\n",
      "data_cluster_norm:  (39216, 64)\n",
      "maps:  (4, 64)\n",
      "\n",
      "[+] Global explained variance GEV = 0.733\n",
      "GEV_0: 0.045\n",
      "GEV_1: 0.068\n",
      "GEV_2: 0.563\n",
      "GEV_3: 0.056\n"
     ]
    }
   ],
   "metadata": {}
  },
  {
   "cell_type": "code",
   "execution_count": 6,
   "source": [
    "\"\"\" display_maps(epoch_RF, n_maps=4, save=True, dpi=400, filename='Random_flicker', \n",
    "fmt='.png', to_save_cache=to_save_cache, time_augs=time_augs, tm=tm, result_dir=result_dir,\n",
    "calc_lzc=True, epochs=epochs_RF,save_log=False) \"\"\""
   ],
   "outputs": [
    {
     "output_type": "execute_result",
     "data": {
      "text/plain": [
       "\" display_maps(epoch_RF, n_maps=4, save=True, dpi=400, filename='Random_flicker', \\nfmt='.png', to_save_cache=to_save_cache, time_augs=time_augs, tm=tm, result_dir=result_dir,\\ncalc_lzc=True, epochs=epochs_RF,save_log=False) \""
      ]
     },
     "metadata": {},
     "execution_count": 6
    }
   ],
   "metadata": {}
  }
 ],
 "metadata": {
  "orig_nbformat": 4,
  "language_info": {
   "name": "python",
   "version": "3.9.6",
   "mimetype": "text/x-python",
   "codemirror_mode": {
    "name": "ipython",
    "version": 3
   },
   "pygments_lexer": "ipython3",
   "nbconvert_exporter": "python",
   "file_extension": ".py"
  },
  "kernelspec": {
   "name": "python3",
   "display_name": "Python 3.9.6 64-bit ('langou': conda)"
  },
  "interpreter": {
   "hash": "febbadcb4c84d7c4dbb6aedcded7a764debc1849da9e7e9cc23c7a0bf2029777"
  }
 },
 "nbformat": 4,
 "nbformat_minor": 2
}